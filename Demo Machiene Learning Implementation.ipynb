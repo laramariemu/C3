{
 "cells": [
  {
   "cell_type": "code",
   "execution_count": 43,
   "metadata": {},
   "outputs": [],
   "source": [
    "########################################################################################\n",
    "########## Code for Training of the Intent Recognition Algorithm\n",
    "##########\n",
    "########## This code shows how we train the our simple intent classification model.\n",
    "########## We decided to implement a support vector machiene algorithm as they are described\n",
    "########## to be very useful in classification problems in the literature.\n",
    "##########\n",
    "########## It has to be added that so far our training data is really small, which was due to\n",
    "########## time constraints when we constructed it. That's why so far, results are better with\n",
    "########## regex classification. If we create a larger training dataset, we belive however that\n",
    "########## this machiene learning approach would rule out regex very quickly.\n",
    "##########\n",
    "########## The data is labeled as follows:\n",
    "########## 1 = request to convert currency\n",
    "########## 2 = request to state average price of a product\n",
    "########## 3 = other request, that has nothing to do with our service\n",
    "##########\n",
    "##########"
   ]
  },
  {
   "cell_type": "code",
   "execution_count": 37,
   "metadata": {},
   "outputs": [],
   "source": [
    "# IMPORTS AND LOADINGS\n",
    "import numpy as np\n",
    "import spacy\n",
    "from sklearn.svm import SVC\n",
    "import re"
   ]
  },
  {
   "cell_type": "code",
   "execution_count": 38,
   "metadata": {},
   "outputs": [],
   "source": [
    "# INITIALIZATIONS FOR WORD2VEC RECOGNITION (GloVe embeddings)\n",
    "nlp = spacy.load('en_core_web_md')"
   ]
  },
  {
   "cell_type": "code",
   "execution_count": 27,
   "metadata": {},
   "outputs": [],
   "source": [
    "# PREPROCESS TRAINING DATA (SELF-CREATED TRAINING SET, AT THE MOMENT ONLY 104 ENTRIES)\n",
    "f=open(\"training_sentences.csv\",\"r\")\n",
    "sentences = []\n",
    "for line in f:\n",
    "    line = line.rstrip()\n",
    "    sentences.append(line)\n",
    "#print(sentences)\n",
    "    \n",
    "f2=open(\"training_labels.csv\",\"r\")\n",
    "labels = []\n",
    "for line in f2:\n",
    "    line = line.rstrip()\n",
    "    labels.append(line)\n",
    "    \n",
    "X_train_shape = (len(sentences),nlp.vocab.vectors_length)\n",
    "X_train = np.zeros(X_train_shape)\n",
    "for idx,sentence in enumerate(sentences):\n",
    "    doc = nlp(sentence)\n",
    "X_train[idx, :] = doc.vector\n",
    "y_train = labels"
   ]
  },
  {
   "cell_type": "code",
   "execution_count": 39,
   "metadata": {},
   "outputs": [
    {
     "name": "stderr",
     "output_type": "stream",
     "text": [
      "C:\\Users\\user\\Anaconda3\\lib\\site-packages\\sklearn\\svm\\base.py:193: FutureWarning: The default value of gamma will change from 'auto' to 'scale' in version 0.22 to account better for unscaled features. Set gamma explicitly to 'auto' or 'scale' to avoid this warning.\n",
      "  \"avoid this warning.\", FutureWarning)\n"
     ]
    },
    {
     "data": {
      "text/plain": [
       "SVC(C=1.0, cache_size=200, class_weight=None, coef0=0.0,\n",
       "    decision_function_shape='ovr', degree=3, gamma='auto_deprecated',\n",
       "    kernel='rbf', max_iter=-1, probability=False, random_state=None,\n",
       "    shrinking=True, tol=0.001, verbose=False)"
      ]
     },
     "execution_count": 39,
     "metadata": {},
     "output_type": "execute_result"
    }
   ],
   "source": [
    "# FITTING\n",
    "clf=SVC()\n",
    "clf.fit(X_train, y_train)"
   ]
  },
  {
   "cell_type": "code",
   "execution_count": 48,
   "metadata": {},
   "outputs": [],
   "source": [
    "#CREATE TEST SENTENCE TO CHECK IF MODEL WORKS (= text_input)\n",
    "text_input = ['How much are eggs usually?']\n",
    "P_shape = (len(text_input),nlp.vocab.vectors_length)\n",
    "P = np.zeros(P_shape)\n",
    "for idx,sentence in enumerate(text_input):\n",
    "    docx = nlp(sentence)\n",
    "P[idx, :] = docx.vector"
   ]
  },
  {
   "cell_type": "code",
   "execution_count": 49,
   "metadata": {},
   "outputs": [
    {
     "name": "stdout",
     "output_type": "stream",
     "text": [
      "['2']\n"
     ]
    }
   ],
   "source": [
    "# LOOK AT PREDICTION OF CLASSIFICATION FOR TEXT INPUT\n",
    "y_pred = clf.predict(P)\n",
    "print(y_pred)"
   ]
  },
  {
   "cell_type": "code",
   "execution_count": null,
   "metadata": {},
   "outputs": [],
   "source": []
  }
 ],
 "metadata": {
  "kernelspec": {
   "display_name": "Python 3",
   "language": "python",
   "name": "python3"
  },
  "language_info": {
   "codemirror_mode": {
    "name": "ipython",
    "version": 3
   },
   "file_extension": ".py",
   "mimetype": "text/x-python",
   "name": "python",
   "nbconvert_exporter": "python",
   "pygments_lexer": "ipython3",
   "version": "3.7.4"
  }
 },
 "nbformat": 4,
 "nbformat_minor": 2
}
